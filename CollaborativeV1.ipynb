{
 "cells": [
  {
   "cell_type": "code",
   "execution_count": 61,
   "metadata": {},
   "outputs": [],
   "source": [
    "#Librairies Basiques\n",
    "import numpy as np\n",
    "from random import *\n",
    "import pandas as pd\n",
    "#Librairies de visualisation\n",
    "import matplotlib.pyplot as plt\n",
    "import plotly.express as px"
   ]
  },
  {
   "cell_type": "code",
   "execution_count": 62,
   "metadata": {},
   "outputs": [],
   "source": [
    "Domaine = {\n",
    "    'TIC': ['Leadership', 'Infographie', 'DevOps', 'Administrateur reaseua', 'Securité'],\n",
    "    'Industrie-Manufacturiere': ['Gestionnaire', 'Manutentionnaire', 'Chargeur'],\n",
    "    'Ingenierie': ['Telecom', 'Mecanique', 'Electronique', 'Robotique', 'Electrique'],\n",
    "    'Agriculture': ['Cultivateur', 'Transporteur'],\n",
    "    'Agro-alimentation': ['Biochimiste', 'Nutritionniste'],\n",
    "    'BTP': ['Maçonnerie', 'Plomberie', 'Carroserie', 'Charpentier', 'Menuisier'],\n",
    "    'Commerce': ['Grossiste', 'Revender'],\n",
    "    'Enseignement': ['Formateur', 'Pdagogue', 'Enseignant'],\n",
    "    'Industrie-Pharmaceutique': ['Pharmacien'],\n",
    "    'Services-Financiers': ['Comptable', 'Fiscaliste'],\n",
    "    'Soins et sante': ['Chirurgien', 'Infirmier', 'Aide-soignant', 'Sage-femme'],\n",
    "    'Justice':['Avocat', 'Hussier', 'Magistrat', 'Procureur']\n",
    "        }\n",
    "\n",
    "Id_Work = []\n",
    "Dataf = []\n",
    "k = list()\n",
    "for cle in Domaine.keys():\n",
    "    k.append(cle)\n",
    "#print(k)\n",
    "for i in range(5000):\n",
    "    Id_Work.append(\"id\"+str(i))\n",
    "    d = choice(k)\n",
    "    rating = randint(0,4) + random().__round__(1)\n",
    "    data = [\"id\"+str(i), \"Auteur\"+str(randint(i,5000)),\n",
    "            d, choice(Domaine[d]), randint(500,1000), rating]\n",
    "    Dataf.append(data)\n",
    "\n",
    "#Dataf\n"
   ]
  },
  {
   "cell_type": "code",
   "execution_count": 63,
   "metadata": {},
   "outputs": [
    {
     "data": {
      "text/html": [
       "<div>\n",
       "<style scoped>\n",
       "    .dataframe tbody tr th:only-of-type {\n",
       "        vertical-align: middle;\n",
       "    }\n",
       "\n",
       "    .dataframe tbody tr th {\n",
       "        vertical-align: top;\n",
       "    }\n",
       "\n",
       "    .dataframe thead th {\n",
       "        text-align: right;\n",
       "    }\n",
       "</style>\n",
       "<table border=\"1\" class=\"dataframe\">\n",
       "  <thead>\n",
       "    <tr style=\"text-align: right;\">\n",
       "      <th></th>\n",
       "      <th>Id_Work</th>\n",
       "      <th>Auteur</th>\n",
       "      <th>Domaine</th>\n",
       "      <th>Competence</th>\n",
       "      <th>Tarif ($)</th>\n",
       "      <th>Rating</th>\n",
       "    </tr>\n",
       "  </thead>\n",
       "  <tbody>\n",
       "    <tr>\n",
       "      <th>0</th>\n",
       "      <td>id0</td>\n",
       "      <td>Auteur4596</td>\n",
       "      <td>Agro-alimentation</td>\n",
       "      <td>Biochimiste</td>\n",
       "      <td>971</td>\n",
       "      <td>2.0</td>\n",
       "    </tr>\n",
       "    <tr>\n",
       "      <th>1</th>\n",
       "      <td>id1</td>\n",
       "      <td>Auteur150</td>\n",
       "      <td>Commerce</td>\n",
       "      <td>Revender</td>\n",
       "      <td>634</td>\n",
       "      <td>1.7</td>\n",
       "    </tr>\n",
       "    <tr>\n",
       "      <th>2</th>\n",
       "      <td>id2</td>\n",
       "      <td>Auteur3682</td>\n",
       "      <td>Industrie-Manufacturiere</td>\n",
       "      <td>Chargeur</td>\n",
       "      <td>844</td>\n",
       "      <td>5.0</td>\n",
       "    </tr>\n",
       "    <tr>\n",
       "      <th>3</th>\n",
       "      <td>id3</td>\n",
       "      <td>Auteur3130</td>\n",
       "      <td>Industrie-Pharmaceutique</td>\n",
       "      <td>Pharmacien</td>\n",
       "      <td>696</td>\n",
       "      <td>3.2</td>\n",
       "    </tr>\n",
       "    <tr>\n",
       "      <th>4</th>\n",
       "      <td>id4</td>\n",
       "      <td>Auteur2785</td>\n",
       "      <td>Soins et sante</td>\n",
       "      <td>Infirmier</td>\n",
       "      <td>919</td>\n",
       "      <td>2.6</td>\n",
       "    </tr>\n",
       "  </tbody>\n",
       "</table>\n",
       "</div>"
      ],
      "text/plain": [
       "  Id_Work      Auteur                   Domaine   Competence  Tarif ($)   \n",
       "0     id0  Auteur4596         Agro-alimentation  Biochimiste        971  \\\n",
       "1     id1   Auteur150                  Commerce     Revender        634   \n",
       "2     id2  Auteur3682  Industrie-Manufacturiere     Chargeur        844   \n",
       "3     id3  Auteur3130  Industrie-Pharmaceutique   Pharmacien        696   \n",
       "4     id4  Auteur2785            Soins et sante    Infirmier        919   \n",
       "\n",
       "   Rating  \n",
       "0     2.0  \n",
       "1     1.7  \n",
       "2     5.0  \n",
       "3     3.2  \n",
       "4     2.6  "
      ]
     },
     "execution_count": 63,
     "metadata": {},
     "output_type": "execute_result"
    }
   ],
   "source": [
    "df = pd.DataFrame(Dataf,\n",
    "                  columns=[\n",
    "                      'Id_Work',\n",
    "                      'Auteur',\n",
    "                      'Domaine',\n",
    "                      'Competence',\n",
    "                      \"Tarif ($)\",\n",
    "                      'Rating'\n",
    "                  ])\n",
    "\n",
    "df.head()"
   ]
  },
  {
   "cell_type": "code",
   "execution_count": 64,
   "metadata": {},
   "outputs": [
    {
     "data": {
      "text/plain": [
       "Id_Work        object\n",
       "Auteur         object\n",
       "Domaine        object\n",
       "Competence     object\n",
       "Tarif ($)       int64\n",
       "Rating        float64\n",
       "dtype: object"
      ]
     },
     "execution_count": 64,
     "metadata": {},
     "output_type": "execute_result"
    }
   ],
   "source": [
    "# Les types des données des colonnes\n",
    "df.dtypes"
   ]
  },
  {
   "cell_type": "code",
   "execution_count": 65,
   "metadata": {},
   "outputs": [
    {
     "name": "stdout",
     "output_type": "stream",
     "text": [
      "count    5000.00000\n",
      "mean        2.50612\n",
      "std         1.44301\n",
      "min         0.00000\n",
      "25%         1.30000\n",
      "50%         2.50000\n",
      "75%         3.80000\n",
      "max         5.00000\n",
      "Name: Rating, dtype: float64\n"
     ]
    },
    {
     "data": {
      "text/plain": [
       "<Axes: >"
      ]
     },
     "execution_count": 65,
     "metadata": {},
     "output_type": "execute_result"
    },
    {
     "data": {
      "image/png": "[encoded data removed]",
      "text/plain": [
       "<Figure size 640x480 with 1 Axes>"
      ]
     },
     "metadata": {},
     "output_type": "display_data"
    }
   ],
   "source": [
    "print(df['Rating'].describe())\n",
    "df['Rating'].hist(bins=10)"
   ]
  },
  {
   "cell_type": "code",
   "execution_count": 66,
   "metadata": {},
   "outputs": [
    {
     "data": {
      "text/plain": [
       "Rating\n",
       "(0, 1]    1011\n",
       "(1, 2]     961\n",
       "(2, 3]    1032\n",
       "(3, 4]    1012\n",
       "(4, 5]     940\n",
       "dtype: int64"
      ]
     },
     "execution_count": 66,
     "metadata": {},
     "output_type": "execute_result"
    }
   ],
   "source": [
    "pd.cut(df.Rating,bins = [0,1,2,3,4,5]).reset_index().groupby(['Rating']).size()"
   ]
  },
  {
   "cell_type": "code",
   "execution_count": 67,
   "metadata": {},
   "outputs": [],
   "source": [
    "# Renvoyer le produit le plus populaire en fonction de la note\n",
    "def recommend_most_popular(col,col_value,top_n=5):\n",
    "    \n",
    "    return df[df[col]==col_value].sort_values(by=\"Rating\", ascending = False).head(top_n)[[\"Auteur\",col,\"Rating\"]]"
   ]
  },
  {
   "cell_type": "code",
   "execution_count": 68,
   "metadata": {},
   "outputs": [
    {
     "data": {
      "text/html": [
       "<div>\n",
       "<style scoped>\n",
       "    .dataframe tbody tr th:only-of-type {\n",
       "        vertical-align: middle;\n",
       "    }\n",
       "\n",
       "    .dataframe tbody tr th {\n",
       "        vertical-align: top;\n",
       "    }\n",
       "\n",
       "    .dataframe thead th {\n",
       "        text-align: right;\n",
       "    }\n",
       "</style>\n",
       "<table border=\"1\" class=\"dataframe\">\n",
       "  <thead>\n",
       "    <tr style=\"text-align: right;\">\n",
       "      <th></th>\n",
       "      <th>Auteur</th>\n",
       "      <th>Domaine</th>\n",
       "      <th>Rating</th>\n",
       "    </tr>\n",
       "  </thead>\n",
       "  <tbody>\n",
       "    <tr>\n",
       "      <th>1973</th>\n",
       "      <td>Auteur2718</td>\n",
       "      <td>TIC</td>\n",
       "      <td>5.0</td>\n",
       "    </tr>\n",
       "    <tr>\n",
       "      <th>1152</th>\n",
       "      <td>Auteur3924</td>\n",
       "      <td>TIC</td>\n",
       "      <td>5.0</td>\n",
       "    </tr>\n",
       "    <tr>\n",
       "      <th>1145</th>\n",
       "      <td>Auteur2448</td>\n",
       "      <td>TIC</td>\n",
       "      <td>5.0</td>\n",
       "    </tr>\n",
       "    <tr>\n",
       "      <th>2778</th>\n",
       "      <td>Auteur3189</td>\n",
       "      <td>TIC</td>\n",
       "      <td>5.0</td>\n",
       "    </tr>\n",
       "    <tr>\n",
       "      <th>516</th>\n",
       "      <td>Auteur1739</td>\n",
       "      <td>TIC</td>\n",
       "      <td>5.0</td>\n",
       "    </tr>\n",
       "  </tbody>\n",
       "</table>\n",
       "</div>"
      ],
      "text/plain": [
       "          Auteur Domaine  Rating\n",
       "1973  Auteur2718     TIC     5.0\n",
       "1152  Auteur3924     TIC     5.0\n",
       "1145  Auteur2448     TIC     5.0\n",
       "2778  Auteur3189     TIC     5.0\n",
       "516   Auteur1739     TIC     5.0"
      ]
     },
     "execution_count": 68,
     "metadata": {},
     "output_type": "execute_result"
    }
   ],
   "source": [
    "recommend_most_popular(col='Domaine',col_value='TIC')"
   ]
  },
  {
   "cell_type": "code",
   "execution_count": 69,
   "metadata": {},
   "outputs": [
    {
     "data": {
      "text/html": [
       "<div>\n",
       "<style scoped>\n",
       "    .dataframe tbody tr th:only-of-type {\n",
       "        vertical-align: middle;\n",
       "    }\n",
       "\n",
       "    .dataframe tbody tr th {\n",
       "        vertical-align: top;\n",
       "    }\n",
       "\n",
       "    .dataframe thead th {\n",
       "        text-align: right;\n",
       "    }\n",
       "</style>\n",
       "<table border=\"1\" class=\"dataframe\">\n",
       "  <thead>\n",
       "    <tr style=\"text-align: right;\">\n",
       "      <th></th>\n",
       "      <th>Auteur</th>\n",
       "      <th>Competence</th>\n",
       "      <th>Rating</th>\n",
       "    </tr>\n",
       "  </thead>\n",
       "  <tbody>\n",
       "  </tbody>\n",
       "</table>\n",
       "</div>"
      ],
      "text/plain": [
       "Empty DataFrame\n",
       "Columns: [Auteur, Competence, Rating]\n",
       "Index: []"
      ]
     },
     "execution_count": 69,
     "metadata": {},
     "output_type": "execute_result"
    }
   ],
   "source": [
    "recommend_most_popular(col='Competence',col_value='TIC')"
   ]
  },
  {
   "attachments": {},
   "cell_type": "markdown",
   "metadata": {},
   "source": [
    "# Filtrage basé sur le contenu"
   ]
  },
  {
   "cell_type": "code",
   "execution_count": null,
   "metadata": {},
   "outputs": [],
   "source": []
  }
 ],
 "metadata": {
  "kernelspec": {
   "display_name": "Python 3",
   "language": "python",
   "name": "python3"
  },
  "language_info": {
   "codemirror_mode": {
    "name": "ipython",
    "version": 3
   },
   "file_extension": ".py",
   "mimetype": "text/x-python",
   "name": "python",
   "nbconvert_exporter": "python",
   "pygments_lexer": "ipython3",
   "version": "3.10.6"
  },
  "orig_nbformat": 4
 },
 "nbformat": 4,
 "nbformat_minor": 2
}
